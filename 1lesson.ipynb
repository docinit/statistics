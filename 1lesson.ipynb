{
 "cells": [
  {
   "cell_type": "markdown",
   "id": "22cd2376-3bdd-41a5-a70e-57379e8adc78",
   "metadata": {},
   "source": [
    "Пример 1\n",
    "\n",
    "Смоделируем 60-кратное подбрасывание игральной кости, вычислить относительную частоту события A."
   ]
  },
  {
   "cell_type": "code",
   "execution_count": 26,
   "id": "3f1f0c3e-ebfc-4d03-9007-8abe70ef77f3",
   "metadata": {},
   "outputs": [
    {
     "name": "stdin",
     "output_type": "stream",
     "text": [
      "Введите интересующее число от 1 до 6 4\n"
     ]
    },
    {
     "name": "stdout",
     "output_type": "stream",
     "text": [
      "Частота выпадения заданного числа = 0.2 , или  20.0%\n"
     ]
    }
   ],
   "source": [
    "import numpy as np\n",
    "\n",
    "array = np.random.randint(1,7,60)\n",
    "i = input('Введите интересующее число от 1 до 6')\n",
    "a_case =  int(i)  if i.isdigit() and int(i)<=6 and int(i)>=1 else print('Ошибка программы... попробуйте еще раз!')\n",
    "n_case = list(array).count(a_case)\n",
    "frequence = n_case / array.shape[0]\n",
    "print('Частота выпадения заданного числа =',frequence,', или ', str(round(frequence*100,2))+'%')"
   ]
  },
  {
   "cell_type": "code",
   "execution_count": 36,
   "id": "35f9a12c-6c23-45cb-a07f-7f8e2b576467",
   "metadata": {
    "tags": []
   },
   "outputs": [
    {
     "name": "stdout",
     "output_type": "stream",
     "text": [
      "Частота выпадения 1 на первом кубике и 2 - на втором = 0.011111111111111112 , или  1.11%\n"
     ]
    }
   ],
   "source": [
    "import numpy as np\n",
    "\n",
    "array = np.array([np.random.randint(1,7,360) for i in range(2)])\n",
    "count = sum([1 for i,k in zip(array[0],array[1]) if i==1 and k==2])\n",
    "frequence = count / array.shape[1]\n",
    "print('Частота выпадения 1 на первом кубике и 2 - на втором =',frequence,', или ', str(round(frequence*100,2))+'%')"
   ]
  },
  {
   "cell_type": "code",
   "execution_count": 27,
   "id": "5b5b8413-36ee-4ea3-a7ce-db935f8c2f3c",
   "metadata": {},
   "outputs": [
    {
     "data": {
      "text/plain": [
       "(2, 360)"
      ]
     },
     "execution_count": 27,
     "metadata": {},
     "output_type": "execute_result"
    }
   ],
   "source": [
    "np.array([np.random.randint(1,7,360) for i in range(2)]).shape"
   ]
  },
  {
   "cell_type": "markdown",
   "id": "c5309edb-2082-4158-bef4-96764149fda8",
   "metadata": {},
   "source": [
    "В магазине 20 покупателей. Сколькими способами они могут образовать очередь из 5 человек?"
   ]
  },
  {
   "cell_type": "code",
   "execution_count": 37,
   "id": "a94edb4d-120a-4a68-b25f-741318481ff6",
   "metadata": {},
   "outputs": [
    {
     "data": {
      "text/plain": [
       "1860480.0"
      ]
     },
     "execution_count": 37,
     "metadata": {},
     "output_type": "execute_result"
    }
   ],
   "source": [
    "np.math.factorial(20) / np.math.factorial(20-5)"
   ]
  },
  {
   "cell_type": "code",
   "execution_count": 38,
   "id": "ebcbeda0-54f4-46ea-b757-99d762f06e6f",
   "metadata": {},
   "outputs": [
    {
     "data": {
      "text/plain": [
       "120"
      ]
     },
     "execution_count": 38,
     "metadata": {},
     "output_type": "execute_result"
    }
   ],
   "source": [
    "np.math.perm(5)"
   ]
  },
  {
   "cell_type": "markdown",
   "id": "462bfa78-643b-4d89-933b-ce500e79e597",
   "metadata": {},
   "source": [
    "Из колоды, состоящей из 36 карт, случайным образом выбраны 5. Сколькими способами можно выбрать эти карты так, чтобы среди них оказалось от 2 до 3 тузов?"
   ]
  },
  {
   "cell_type": "code",
   "execution_count": 99,
   "id": "157bc186-27af-4f56-9cf4-2d32dfd65dc7",
   "metadata": {},
   "outputs": [
    {
     "name": "stdout",
     "output_type": "stream",
     "text": [
      "CPU times: user 23 µs, sys: 0 ns, total: 23 µs\n",
      "Wall time: 26.2 µs\n"
     ]
    },
    {
     "data": {
      "text/plain": [
       "31744.0"
      ]
     },
     "execution_count": 99,
     "metadata": {},
     "output_type": "execute_result"
    }
   ],
   "source": [
    "%%time\n",
    "\n",
    "tuz_2 = (np.math.factorial(32) / (np.math.factorial(3)*np.math.factorial(32-3))) * (np.math.factorial(4)/(np.math.factorial(2)*np.math.factorial(4-2)))\n",
    "tuz_3 = (np.math.factorial(32) / (np.math.factorial(2)*np.math.factorial(32-2))) * (np.math.factorial(4)/(np.math.factorial(3)*np.math.factorial(4-3)))\n",
    "\n",
    "total = tuz_2 + tuz_3\n",
    "total"
   ]
  },
  {
   "cell_type": "code",
   "execution_count": 100,
   "id": "625d89b1-cf97-489c-8e96-248b3cd6305e",
   "metadata": {},
   "outputs": [
    {
     "name": "stdout",
     "output_type": "stream",
     "text": [
      "CPU times: user 19 µs, sys: 2 µs, total: 21 µs\n",
      "Wall time: 24.6 µs\n"
     ]
    },
    {
     "data": {
      "text/plain": [
       "31744"
      ]
     },
     "execution_count": 100,
     "metadata": {},
     "output_type": "execute_result"
    }
   ],
   "source": [
    "%%time\n",
    "\n",
    "tuz_2 = np.math.comb(32,3) * np.math.comb(4,2)\n",
    "tuz_3 = np.math.comb(32,2) * np.math.comb(4,3)\n",
    "\n",
    "total = tuz_2 + tuz_3\n",
    "total"
   ]
  },
  {
   "cell_type": "code",
   "execution_count": 52,
   "id": "0886ca0d-4416-4f2f-9ea7-d8d8e6644871",
   "metadata": {},
   "outputs": [
    {
     "data": {
      "text/plain": [
       "4960"
      ]
     },
     "execution_count": 52,
     "metadata": {},
     "output_type": "execute_result"
    }
   ],
   "source": [
    "np.math.comb(32,3)"
   ]
  },
  {
   "cell_type": "markdown",
   "id": "541d6b4a-6870-49d2-bfb3-3a1c9a8c4457",
   "metadata": {},
   "source": [
    "вероятность того, что при броске двух игральных костей на первой выпадет четное число, а на второй — кратное трем. "
   ]
  },
  {
   "cell_type": "code",
   "execution_count": 102,
   "id": "66545221-3469-41b0-93ad-6218f69b0b06",
   "metadata": {},
   "outputs": [
    {
     "name": "stdout",
     "output_type": "stream",
     "text": [
      "Вероятность выпадения четного и кратного 3 числа на двух кубиках = 0.1667\n"
     ]
    }
   ],
   "source": [
    "import numpy as np\n",
    "\n",
    "prob = 1/2 * 1/3\n",
    "print('Вероятность выпадения четного и кратного 3 числа на двух кубиках =',round(prob,4))"
   ]
  },
  {
   "cell_type": "markdown",
   "id": "0893532a-7791-4fbe-9b0c-ff64ec1543e9",
   "metadata": {},
   "source": [
    "---\n",
    "Есть три одинаковые корзины. В первой лежат три красных и пять зеленых мячей, во второй — только красные, а в третьей — только зеленые мячи. Случайно выбирается одна корзина и из нее случайным образом извлекается мяч.\n",
    "\n",
    "Какова вероятность того, что этот мяч — зеленый?\n",
    "\n",
    "Решим эту задачу с помощью формулы полной вероятности. Событием A будем считать то, что достанут зеленый мяч, а событием B — что выберут определенную корзину. Причем вероятность выбора одной из трех корзин будет равна 1/3.\n",
    "\n",
    "Вероятность достать зеленый мяч при условии, что выбрана первая корзина, равен 5/(3 + 5), то есть 5/8. При выборе второй корзины вероятность вынуть зеленый мяч равна 0. В случае с третьей корзиной вероятность равна 1, так как все мячи в ней — зеленые."
   ]
  },
  {
   "cell_type": "code",
   "execution_count": 107,
   "id": "56b1ecb4-8676-4b6e-acf2-8f5f9bdfeb5c",
   "metadata": {},
   "outputs": [
    {
     "data": {
      "text/plain": [
       "(54.1667, 54.1667)"
      ]
     },
     "execution_count": 107,
     "metadata": {},
     "output_type": "execute_result"
    }
   ],
   "source": [
    "one = ['green'] * 5 + ['red'] * 3\n",
    "two = ['red']\n",
    "three = ['green']\n",
    "\n",
    "one_prob = sum([1 for i in one if i=='green']) / len(one)\n",
    "two_prob = sum([1 for i in two if i=='green']) / len(two)\n",
    "three_prob = sum([1 for i in three if i=='green']) / len(three)\n",
    "\n",
    "full_prob = (one_prob+two_prob+three_prob) / len([one,two,three])\n",
    "round(full_prob*100,4),round(100*13/24,4)"
   ]
  },
  {
   "cell_type": "markdown",
   "id": "77d2f091-82a9-4289-85f3-e9f328fb27d9",
   "metadata": {},
   "source": [
    "Соревнования по биатлону. Один из трех спортсменов стреляет и попадает в мишень.\n",
    "\n",
    "Вероятность такого события для первого спортсмена равна 0.2, для второго — 0.4, для третьего — 0.7.\n",
    "\n",
    "Задача: найти вероятность того, что выстрелы произведены третьим спортсменом."
   ]
  },
  {
   "cell_type": "code",
   "execution_count": 113,
   "id": "a2a747bc-5eba-41ad-8586-12d336db7363",
   "metadata": {},
   "outputs": [
    {
     "data": {
      "text/plain": [
       "53.8462"
      ]
     },
     "execution_count": 113,
     "metadata": {},
     "output_type": "execute_result"
    }
   ],
   "source": [
    "first_prob = 0.2\n",
    "second_prob = 0.4\n",
    "third_prob = 0.7\n",
    "prob = 1/len(['first','second','third'])\n",
    "probability_for_first = prob * first_prob\n",
    "probability_for_second = prob * second_prob\n",
    "probability_for_third = prob * third_prob\n",
    "\n",
    "round(probability_for_third / sum([probability_for_first,probability_for_second,probability_for_third])*100,4)"
   ]
  },
  {
   "cell_type": "code",
   "execution_count": 112,
   "id": "77b7c3f3-6f11-4958-b840-faf93ec784e0",
   "metadata": {},
   "outputs": [
    {
     "data": {
      "text/plain": [
       "0.5384615384615384"
      ]
     },
     "execution_count": 112,
     "metadata": {},
     "output_type": "execute_result"
    }
   ],
   "source": [
    "7/13"
   ]
  },
  {
   "cell_type": "code",
   "execution_count": null,
   "id": "8692b4a8-8d9e-4f95-93f1-b1a70597e74e",
   "metadata": {},
   "outputs": [],
   "source": []
  }
 ],
 "metadata": {
  "kernelspec": {
   "display_name": "Python 3 (ipykernel)",
   "language": "python",
   "name": "python3"
  },
  "language_info": {
   "codemirror_mode": {
    "name": "ipython",
    "version": 3
   },
   "file_extension": ".py",
   "mimetype": "text/x-python",
   "name": "python",
   "nbconvert_exporter": "python",
   "pygments_lexer": "ipython3",
   "version": "3.9.13"
  },
  "widgets": {
   "application/vnd.jupyter.widget-state+json": {
    "state": {},
    "version_major": 2,
    "version_minor": 0
   }
  }
 },
 "nbformat": 4,
 "nbformat_minor": 5
}
