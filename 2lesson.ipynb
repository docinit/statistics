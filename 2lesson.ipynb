{
 "cells": [
  {
   "cell_type": "markdown",
   "id": "e9663e15-8527-48b3-85c2-ce97c0854ccd",
   "metadata": {},
   "source": [
    "\n",
    "1.    Вероятность того, что стрелок попадет в мишень, выстрелив один раз, равна 0.8. Стрелок выстрелил 100 раз. Найдите вероятность того, что стрелок попадет в цель ровно 85 раз.\n",
    "2.    Вероятность того, что лампочка перегорит в течение первого дня эксплуатации, равна 0.0004. В жилом комплексе после ремонта в один день включили 5000 новых лампочек. Какова вероятность, что ни одна из них не перегорит в первый день? Какова вероятность, что перегорят ровно две?\n",
    "3.    Монету подбросили 144 раза. Какова вероятность, что орел выпадет ровно 70 раз?\n",
    "4.    В первом ящике находится 10 мячей, из которых 7 - белые. Во втором ящике - 11 мячей, из которых 9 белых. Из каждого ящика вытаскивают случайным образом по два мяча. Какова вероятность того, что все мячи белые? Какова вероятность того, что ровно два мяча белые? Какова вероятность того, что хотя бы один мяч белый?\n",
    "\n"
   ]
  },
  {
   "cell_type": "markdown",
   "id": "a540e47a-dd4a-415d-b978-6eb1042719b9",
   "metadata": {},
   "source": [
    "##### 1"
   ]
  },
  {
   "cell_type": "code",
   "execution_count": 1,
   "id": "07cd56b9-929f-447b-95ab-ba694c0821b8",
   "metadata": {},
   "outputs": [
    {
     "data": {
      "text/plain": [
       "0.048061793700746355"
      ]
     },
     "execution_count": 1,
     "metadata": {},
     "output_type": "execute_result"
    }
   ],
   "source": [
    "import numpy as np\n",
    "\n",
    "prob = 0.8\n",
    "prob_no = 1-prob\n",
    "n = 100\n",
    "n_success = 85\n",
    "prob_85 = np.math.factorial(n) / (np.math.factorial(n_success)*np.math.factorial(n-n_success)) * prob**n_success * prob_no**(n-n_success)\n",
    "prob_85"
   ]
  },
  {
   "cell_type": "markdown",
   "id": "af60d80c-9ac8-44ac-97d1-3475eb7a9ce2",
   "metadata": {},
   "source": [
    "##### 2"
   ]
  },
  {
   "cell_type": "code",
   "execution_count": 2,
   "id": "bd875bb3-4f3b-49cc-936e-ad680bacd5cf",
   "metadata": {},
   "outputs": [
    {
     "name": "stdout",
     "output_type": "stream",
     "text": [
      "Вероятность того, что перегорит 0 лампочек в первый день составляет 0.1353\n",
      "Вероятность того, что перегорит 2 лампочек в первый день составляет 0.2707\n"
     ]
    }
   ],
   "source": [
    "prob = 0.0004\n",
    "n = 5000\n",
    "m_1 = 0\n",
    "m_2 = 2\n",
    "\n",
    "def poisson(prob,n,m):\n",
    "    return round((n * prob)**m / np.math.factorial(m) * np.e**(-n * prob),4)\n",
    "\n",
    "\n",
    "for m in [m_1,m_2]:\n",
    "    print(f'Вероятность того, что перегорит {m} лампочек в первый день составляет {poisson(prob,n,m)}')"
   ]
  },
  {
   "cell_type": "markdown",
   "id": "6487b10e-709b-43df-8d39-7de914dce1c6",
   "metadata": {},
   "source": [
    "##### 3"
   ]
  },
  {
   "cell_type": "code",
   "execution_count": 3,
   "id": "fdfe633a-097a-4445-a5ab-1dd3c620b8c4",
   "metadata": {},
   "outputs": [
    {
     "data": {
      "text/plain": [
       "0.06281178035144776"
      ]
     },
     "execution_count": 3,
     "metadata": {},
     "output_type": "execute_result"
    }
   ],
   "source": [
    "prob = 1/2\n",
    "prob_no = 1-prob\n",
    "n = 144\n",
    "m = 70\n",
    "prob_70 = np.math.factorial(n) / (np.math.factorial(m)*np.math.factorial(n-m)) * prob**m * prob_no**(n-m)\n",
    "prob_70"
   ]
  },
  {
   "cell_type": "markdown",
   "id": "766ff011-6b16-4b67-91aa-ecafdff51099",
   "metadata": {},
   "source": [
    "##### 4"
   ]
  },
  {
   "cell_type": "markdown",
   "id": "c6f7a24b-54f0-4471-a3ae-3abe01412971",
   "metadata": {},
   "source": [
    "##### 4.1"
   ]
  },
  {
   "cell_type": "code",
   "execution_count": 4,
   "id": "4cb94bfe-d2c9-4150-b7c7-d8275d0f22c3",
   "metadata": {},
   "outputs": [
    {
     "name": "stdout",
     "output_type": "stream",
     "text": [
      "a) 0.3055 ; = b) 0.3055\n"
     ]
    }
   ],
   "source": [
    "fact = np.math.factorial\n",
    "# вычислить можно перемножением вероятностей или вытаскивания шаров по-одному или перемножением вероятностей \"выпадения\" различных комбинаций\n",
    "print(*['a)',round((7/10 * 6/9) * (9/11*8/10),4), '; =', 'b)',round(np.math.comb(7,2) / np.math.comb(10,2) * np.math.comb(9,2) / np.math.comb(11,2),4)])"
   ]
  },
  {
   "cell_type": "markdown",
   "id": "8061bcfb-ae3a-4d25-9c46-6cc172ec321d",
   "metadata": {},
   "source": [
    "##### 4.2"
   ]
  },
  {
   "cell_type": "code",
   "execution_count": 5,
   "id": "c0dd3a99-7335-4f07-b6e3-2dbff0b8cf41",
   "metadata": {},
   "outputs": [
    {
     "data": {
      "text/plain": [
       "(21, 36, 21, 18, 45, 55)"
      ]
     },
     "execution_count": 5,
     "metadata": {},
     "output_type": "execute_result"
    }
   ],
   "source": [
    "# белых\n",
    "# кол-во возможных комбинаций \"белых по 2\" из первого ящика\n",
    "white_comb_1 = np.math.comb(7,2)\n",
    "# кол-во возможных комбинаций 1 белый + 1 черный из первого ящика\n",
    "white_nw_comb_1 = np.math.comb(7,1) * np.math.comb(3,1)\n",
    "# кол-во возможных комбинаций \"белых по 2\" из второго ящика\n",
    "white_comb_2 = np.math.comb(9,2)\n",
    "# кол-во возможных комбинаций 1 белый + 1 черный из второго ящика\n",
    "white_nw_comb_2 = np.math.comb(9,1) * np.math.comb(2,1)\n",
    "# всего возможных комбинаций из 1 и 2 ящиков\n",
    "all_comb_1, all_comb_2 = np.math.comb(10,2), np.math.comb(11,2)\n",
    "# просмотр результатов\n",
    "white_comb_1,white_comb_2,white_nw_comb_1,white_nw_comb_2,all_comb_1, all_comb_2"
   ]
  },
  {
   "cell_type": "code",
   "execution_count": 6,
   "id": "b83dcb92-a65c-4bf1-b51d-dc9ee84b114a",
   "metadata": {},
   "outputs": [],
   "source": [
    "# вероятность 2 белых из первого ящика\n",
    "prob_1 = white_comb_1/all_comb_1\n",
    "# вероятность 1 белый + 1 черный из первого ящика\n",
    "prob_1_wnw = white_nw_comb_1 / all_comb_1\n",
    "# вероятность 2 белых из второго ящика\n",
    "prob_2 = white_comb_2/all_comb_2\n",
    "# вероятность 1 белый + 1 черный из второго ящика\n",
    "prob_2_wnw = white_nw_comb_2 / all_comb_2"
   ]
  },
  {
   "cell_type": "code",
   "execution_count": 7,
   "id": "df2cd9d3-6ed5-4513-84db-66da76a99384",
   "metadata": {},
   "outputs": [
    {
     "name": "stdout",
     "output_type": "stream",
     "text": [
      "Вероятность вытащить ровно 2 белых шара =  0.2048\n"
     ]
    }
   ],
   "source": [
    "only_two_comb = prob_1 * np.math.comb(2,2)/np.math.comb(11,2) + np.math.comb(3,2)/np.math.comb(10,2) * prob_2 + prob_1_wnw * prob_2_wnw\n",
    "print(*['Вероятность вытащить ровно 2 белых шара = ',round(only_two_comb,4)])"
   ]
  },
  {
   "cell_type": "markdown",
   "id": "76116352-a777-489e-92a6-bb399082cc3d",
   "metadata": {},
   "source": [
    "##### 3"
   ]
  },
  {
   "cell_type": "code",
   "execution_count": 8,
   "id": "6e3a183e-d676-44b3-a2e6-68190b6f0dab",
   "metadata": {},
   "outputs": [
    {
     "name": "stdout",
     "output_type": "stream",
     "text": [
      "вероятность вытащить хотя бы 1 белый шар = 0.9988\n"
     ]
    }
   ],
   "source": [
    "# вероятность вытащить хотя бы 1 белый шар = 1 - вероятность вытащить все НЕбелые шары.\n",
    "print('вероятность вытащить хотя бы 1 белый шар =',round(1-np.math.comb(3,2)/np.math.comb(10,2)*np.math.comb(2,2)/np.math.comb(11,2),4))"
   ]
  },
  {
   "cell_type": "code",
   "execution_count": null,
   "id": "cfdd1e32-f553-4a36-8251-096e6247d133",
   "metadata": {},
   "outputs": [],
   "source": []
  }
 ],
 "metadata": {
  "kernelspec": {
   "display_name": "Python 3 (ipykernel)",
   "language": "python",
   "name": "python3"
  },
  "language_info": {
   "codemirror_mode": {
    "name": "ipython",
    "version": 3
   },
   "file_extension": ".py",
   "mimetype": "text/x-python",
   "name": "python",
   "nbconvert_exporter": "python",
   "pygments_lexer": "ipython3",
   "version": "3.9.13"
  },
  "widgets": {
   "application/vnd.jupyter.widget-state+json": {
    "state": {},
    "version_major": 2,
    "version_minor": 0
   }
  }
 },
 "nbformat": 4,
 "nbformat_minor": 5
}
