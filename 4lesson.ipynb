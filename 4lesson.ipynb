{
 "cells": [
  {
   "cell_type": "markdown",
   "id": "a8bdedf3-86fd-4a8b-a885-34342a0176ae",
   "metadata": {},
   "source": [
    "\n",
    "\n",
    "1.    Случайная непрерывная величина A имеет равномерное распределение на промежутке (200, 800].\n",
    "    Найдите ее среднее значение и дисперсию.\n",
    "\n",
    "2.    О случайной непрерывной равномерно распределенной величине B известно, что ее дисперсия равна 0.2.\n",
    "    Можно ли найти правую границу величины B и ее среднее значение зная, что левая граница равна 0.5?\n",
    "    Если да, найдите ее.\n",
    "\n",
    "3.    Непрерывная случайная величина X распределена нормально и задана плотностью распределения\n",
    "    f(x) = (1 / (4 * sqrt(2*pi))) * (exp(-(x+2)**2) / 32).\n",
    "    Найдите:\n",
    "    а). M(X)\n",
    "    б). D(X)\n",
    "    в). std(X) (среднее квадратичное отклонение)\n",
    "\n",
    "4.    Рост взрослого населения города X имеет нормальное распределение.\n",
    "    Причем, средний рост равен 174 см, а среднее квадратичное отклонение равно 8 см.\n",
    "    Какова вероятность того, что случайным образом выбранный взрослый человек имеет рост:\n",
    "    а). больше 182 см\n",
    "    б). больше 190 см\n",
    "    в). от 166 см до 190 см\n",
    "    г). от 166 см до 182 см\n",
    "    д). от 158 см до 190 см\n",
    "    е). не выше 150 см или не ниже 190 см\n",
    "    ё). не выше 150 см или не ниже 198 см\n",
    "    ж). ниже 166 см.\n",
    "\n",
    "5.    На сколько сигм (средних квадратичных отклонений) отклоняется рост человека, равный 190 см, от\n",
    "    математического ожидания роста в популяции, в которой M(X) = 178 см и D(X) = 25 кв.см?\n",
    "\n"
   ]
  },
  {
   "cell_type": "code",
   "execution_count": 1,
   "id": "bee05a32-eb35-4ca2-be16-1da23713f747",
   "metadata": {},
   "outputs": [],
   "source": [
    "import scipy as sp\n",
    "import numpy as np"
   ]
  },
  {
   "cell_type": "markdown",
   "id": "ce6b380a-373b-40dd-b1a5-919123a1f8ee",
   "metadata": {},
   "source": [
    "## 1"
   ]
  },
  {
   "cell_type": "code",
   "execution_count": 2,
   "id": "2628e533-79eb-4652-8784-6246467ae388",
   "metadata": {},
   "outputs": [
    {
     "name": "stdout",
     "output_type": "stream",
     "text": [
      "Среднее = 500.0\n",
      "Дисперсия = 30000.0\n",
      "При использовании модуля scipy получаются следующие значения:\n",
      "Среднее = 500.0,\n",
      "Дисперсия = 30000.0\n"
     ]
    }
   ],
   "source": [
    "a_min = 200\n",
    "a_max = 800\n",
    "\n",
    "mean = (a_max + a_min)/2\n",
    "print('Среднее =', mean)\n",
    "\n",
    "var = ((a_max - a_min)**2) / 12\n",
    "print('Дисперсия =', var)\n",
    "\n",
    "print(f'''При использовании модуля scipy получаются следующие значения:\\nСреднее = {sp.stats.uniform.mean(loc = a_min,scale=a_max-a_min)},\\nДисперсия = {sp.stats.uniform.var(loc = a_min,scale=a_max-a_min)}''')\n"
   ]
  },
  {
   "cell_type": "markdown",
   "id": "26d4806d-030c-4342-85eb-4427dbb3db9c",
   "metadata": {},
   "source": [
    "## 2"
   ]
  },
  {
   "cell_type": "code",
   "execution_count": 3,
   "id": "727992d1-31ee-4271-9284-f96777419ebe",
   "metadata": {},
   "outputs": [
    {
     "name": "stdout",
     "output_type": "stream",
     "text": [
      "Правая граница = 2.049193338482967\n",
      "Среднее значение = 1.2745966692414834\n"
     ]
    }
   ],
   "source": [
    "var = 0.2\n",
    "a_min = 0.5\n",
    "a_max = (12*var)**0.5 + a_min\n",
    "# var_recount = (a_max - a_min)**2 / 12\n",
    "# print(var_recount)\n",
    "print('Правая граница =',a_max)\n",
    "print('Среднее значение =', (a_min + a_max)/2) # = sp.stats.uniform.mean(loc = a_min, scale = a_max-a_min)"
   ]
  },
  {
   "cell_type": "markdown",
   "id": "e69735a6-2986-4e22-baad-b8ea94493cc5",
   "metadata": {},
   "source": [
    "## 3"
   ]
  },
  {
   "cell_type": "markdown",
   "id": "dc558a4a-ab8f-464e-a076-c2a8a441f570",
   "metadata": {},
   "source": [
    "* f(x) = (1 / (4 * sqrt(2*pi))) * (exp(-(x+2)\\**2) / 32)"
   ]
  },
  {
   "cell_type": "code",
   "execution_count": 4,
   "id": "b77b3eab-d290-4707-8b8a-5d610e4875d5",
   "metadata": {},
   "outputs": [
    {
     "name": "stdout",
     "output_type": "stream",
     "text": [
      "\n",
      "D = 16,\n",
      "std = 4.0,\n",
      "M = 2\n",
      "\n"
     ]
    }
   ],
   "source": [
    "var = 16\n",
    "std = var**0.5\n",
    "mean = 2\n",
    "\n",
    "print(\n",
    "f'''\n",
    "D = {var},\n",
    "std = {std},\n",
    "M = {mean}\n",
    "'''\n",
    ")"
   ]
  },
  {
   "cell_type": "markdown",
   "id": "ce81afd5-f5df-4324-ad49-4a3f8b9a2438",
   "metadata": {},
   "source": [
    "## 4"
   ]
  },
  {
   "cell_type": "code",
   "execution_count": 5,
   "id": "13f50344-0430-4283-8ee2-4ef4e6c9c1c2",
   "metadata": {},
   "outputs": [
    {
     "data": {
      "text/plain": [
       "[[150, 0.0013498980316300933],\n",
       " [158, 0.022750131948179195],\n",
       " [166, 0.15865525393145707],\n",
       " [182, 0.8413447460685429],\n",
       " [190, 0.9772498680518208],\n",
       " [198, 0.9986501019683699]]"
      ]
     },
     "execution_count": 5,
     "metadata": {},
     "output_type": "execute_result"
    }
   ],
   "source": [
    "mean = 174\n",
    "std = 8\n",
    "height_list = sorted([182,190,166,158,150,198])\n",
    "more_than_182_prob = sp.stats.norm.cdf(height_list,loc = mean,scale = std)\n",
    "results = [[height,prob] for height,prob in zip(height_list,more_than_182_prob)]\n",
    "results"
   ]
  },
  {
   "cell_type": "code",
   "execution_count": 6,
   "id": "5d58f03f-dc5d-4410-86c3-48d0addb0fce",
   "metadata": {},
   "outputs": [
    {
     "name": "stdout",
     "output_type": "stream",
     "text": [
      "\n",
      "а) вероятность роста больше 182 = 0.15865525393145707,\n",
      "б) вероятность роста больше 190 = 0.02275013194817921,\n",
      "в) вероятность роста от 166 см до 190 см = 0.8185946141203637,\n",
      "г) вероятность роста от 166 см до 182 = 0.6826894921370859,\n",
      "д) вероятность роста от 158 см до 190 см = 0.9544997361036416,\n",
      "е) вероятность роста не выше 150 см или не ниже 190 см = 0.0241000299798093,\n",
      "ё) вероятность роста не выше 150 см или не ниже 198 см = 0.0026997960632601965,\n",
      "ж) вероятность роста ниже 166 см = 0.15865525393145707,\n",
      "\n"
     ]
    }
   ],
   "source": [
    "print(\n",
    "f'''\n",
    "а) вероятность роста больше 182 = {1-results[3][1]},\n",
    "б) вероятность роста больше 190 = {1-results[4][1]},\n",
    "в) вероятность роста от 166 см до 190 см = {results[4][1] - results[2][1]},\n",
    "г) вероятность роста от 166 см до 182 = {results[3][1] - results[2][1]},\n",
    "д) вероятность роста от 158 см до 190 см = {results[4][1] - results[1][1]},\n",
    "е) вероятность роста не выше 150 см или не ниже 190 см = {results[0][1] + (1-results[4][1])},\n",
    "ё) вероятность роста не выше 150 см или не ниже 198 см = {results[0][1] + (1-results[-1][1])},\n",
    "ж) вероятность роста ниже 166 см = {results[2][1]},\n",
    "''')"
   ]
  },
  {
   "cell_type": "markdown",
   "id": "be284868-4512-4d55-a905-84e82df8d805",
   "metadata": {},
   "source": [
    "## 5"
   ]
  },
  {
   "cell_type": "code",
   "execution_count": 7,
   "id": "49d08b2e-135f-4e8a-8b88-8957f6d35fb5",
   "metadata": {},
   "outputs": [
    {
     "name": "stdout",
     "output_type": "stream",
     "text": [
      "Отклонение составило 2.4 сигм\n"
     ]
    }
   ],
   "source": [
    "mean = 178\n",
    "var = 25\n",
    "\n",
    "std = var**0.5\n",
    "\n",
    "print(f'Отклонение составило {(190-mean)/std} сигм')"
   ]
  },
  {
   "cell_type": "code",
   "execution_count": null,
   "id": "180624c3-7372-4ee0-a9e1-5f12d92ba7db",
   "metadata": {},
   "outputs": [],
   "source": []
  }
 ],
 "metadata": {
  "kernelspec": {
   "display_name": "Python 3 (ipykernel)",
   "language": "python",
   "name": "python3"
  },
  "language_info": {
   "codemirror_mode": {
    "name": "ipython",
    "version": 3
   },
   "file_extension": ".py",
   "mimetype": "text/x-python",
   "name": "python",
   "nbconvert_exporter": "python",
   "pygments_lexer": "ipython3",
   "version": "3.10.4"
  }
 },
 "nbformat": 4,
 "nbformat_minor": 5
}
