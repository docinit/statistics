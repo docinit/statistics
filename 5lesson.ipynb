{
 "cells": [
  {
   "cell_type": "markdown",
   "id": "53bea4bc-5bad-4c7f-a568-3c8cf2e3c641",
   "metadata": {},
   "source": [
    "## Урок 5. Проверка статистических гипотез. P-значения. Доверительные интервалы. A/B-тестирование\n",
    "\n",
    "1.    Известно, что генеральная совокупность распределена нормально со средним квадратическим отклонением, равным 16. Найти доверительный интервал для оценки математического ожидания a с надежностью 0.95, если выборочная средняя M = 80, а объем выборки n = 256.\n",
    "\n",
    "2.    В результате 10 независимых измерений некоторой величины X, выполненных с одинаковой точностью, получены опытные данные: 6.9, 6.1, 6.2, 6.8, 7.5, 6.3, 6.4, 6.9, 6.7, 6.1 <br>Предполагая, что результаты измерений подчинены нормальному закону распределения вероятностей, оценить истинное значение величины X при помощи доверительного интервала, покрывающего это значение с доверительной вероятностью 0,95.\n",
    "\n",
    "3.    Утверждается, что шарики для подшипников, изготовленные автоматическим станком, имеют средний диаметр 17 мм. Используя односторонний критерий с α=0,05, проверить эту гипотезу, если в выборке из n=100 шариков средний диаметр оказался равным 17.5 мм, а дисперсия известна и равна 4 мм.\n",
    "\n",
    "4.    Продавец утверждает, что средний вес пачки печенья составляет 200 г. Из партии извлечена выборка из 10 пачек. Вес каждой пачки составляет: 202, 203, 199, 197, 195, 201, 200, 204, 194, 190.<br>Известно, что их веса распределены нормально. Верно ли утверждение продавца, если учитывать, что доверительная вероятность равна 99%?\n",
    "\n"
   ]
  },
  {
   "cell_type": "markdown",
   "id": "fe7d4e00-7600-49e6-bd9e-d1386e681854",
   "metadata": {
    "tags": []
   },
   "source": [
    "##  1."
   ]
  },
  {
   "cell_type": "code",
   "execution_count": 1,
   "id": "c9b10902-8cf1-4024-ae0a-a55817c05717",
   "metadata": {},
   "outputs": [
    {
     "name": "stdout",
     "output_type": "stream",
     "text": [
      "\n",
      "78.03619670916636 - левая граница,\n",
      "81.96380329083364 - правая граница ДИ\n"
     ]
    }
   ],
   "source": [
    "from scipy import stats as s\n",
    "\n",
    "std = 16\n",
    "p = 0.95\n",
    "mean = 80\n",
    "n = 256\n",
    "# дано среднее ген.совокупности, поэтому используем s.norm\n",
    "dev = s.norm.ppf(1-0.05/2) # результат: количество стандартных отклонений,\n",
    "                          # на которые отклоняется величина, если вероятность ее появления меньше заданного уровня\n",
    "mse = std / ((n-1)**0.5) # результат: стандартная ошибка среднего mse\n",
    "print(f'''\n",
    "{mean-mse*dev} - левая граница,\n",
    "{mean+mse*dev} - правая граница ДИ''')"
   ]
  },
  {
   "cell_type": "markdown",
   "id": "f4be05e6-d91d-41a2-89f3-fccc14d94893",
   "metadata": {},
   "source": [
    "## 2."
   ]
  },
  {
   "cell_type": "markdown",
   "id": "526afc7c-490f-43f2-9063-f84d00f3079e",
   "metadata": {},
   "source": [
    "### 2.1 - оценка ДИ для среднего"
   ]
  },
  {
   "cell_type": "code",
   "execution_count": 2,
   "id": "c11c1c52-3f59-41df-846f-aeae09936051",
   "metadata": {},
   "outputs": [
    {
     "name": "stdout",
     "output_type": "stream",
     "text": [
      "\n",
      "6.267515851415712 - левая граница,\n",
      "6.912484148584286 - правая граница ДИ\n"
     ]
    }
   ],
   "source": [
    "data = [6.9, 6.1, 6.2, 6.8, 7.5, 6.3, 6.4, 6.9, 6.7, 6.1]\n",
    "p = 0.95\n",
    "n = len(data)\n",
    "mean = sum(data)/n\n",
    "alpha = (1-p)/2 # 1-p = уровень alpha; т.к. критерий двусторонний, делим этот уровень на 2\n",
    "std = (sum([(i-mean)**2 for i in data])/(n-1))**0.5\n",
    "# среднее ген.совокупности неизвестно, поэтому используем s.t\n",
    "dev = s.t.ppf(1-alpha,df=n-1)\n",
    "mse = std / (n**0.5)\n",
    "print(f'''\n",
    "{mean-mse*dev} - левая граница,\n",
    "{mean+mse*dev} - правая граница ДИ''')"
   ]
  },
  {
   "cell_type": "markdown",
   "id": "60d8f11a-2cae-4847-9b6a-e2598640c0da",
   "metadata": {
    "tags": []
   },
   "source": [
    "### 2.2 - оценка ДИ для значений"
   ]
  },
  {
   "cell_type": "code",
   "execution_count": 3,
   "id": "870bcc34-f52b-4845-8a79-03a77fd1acbb",
   "metadata": {},
   "outputs": [
    {
     "data": {
      "text/plain": [
       "array([5.57021558, 7.60978442])"
      ]
     },
     "execution_count": 3,
     "metadata": {},
     "output_type": "execute_result"
    }
   ],
   "source": [
    "s.t.ppf([alpha,1-alpha],loc=mean, scale=std, df = n-1)"
   ]
  },
  {
   "cell_type": "code",
   "execution_count": 4,
   "id": "87403172-0201-4882-8834-3f85ed258b3b",
   "metadata": {},
   "outputs": [
    {
     "data": {
      "image/png": "[encoded data removed]",
      "text/plain": [
       "<Figure size 640x480 with 1 Axes>"
      ]
     },
     "metadata": {},
     "output_type": "display_data"
    }
   ],
   "source": [
    "from matplotlib import pyplot as plt\n",
    "import numpy as np\n",
    "points = s.t.ppf(np.linspace(0,1,1000),loc=mean, scale=std, df = n-1)[1:-1]\n",
    "cum_vars = s.t.cdf(points,loc=mean, scale=std, df = n-1)\n",
    "res = np.array(list(zip(cum_vars,points)))\n",
    "max_value = res[np.argwhere(res[:,0]>=0.5)[0]][0][1]\n",
    "maximum = res[np.argwhere(res[:,0]>=0.5)[0]][0][0]\n",
    "left_value = res[np.argwhere(res[:,0]>=0.025)[0]][0][1]\n",
    "left_var = res[np.argwhere(res[:,0]>=0.025)[0]][0][0]\n",
    "right_value = res[np.argwhere(res[:,0]>=0.975)[0]][0][1]\n",
    "right_var = res[np.argwhere(res[:,0]>=0.975)[0]][0][0]\n",
    "\n",
    "\n",
    "### Подписи к данным\n",
    "values = [max_value,left_value,right_value]\n",
    "y = [0,0,0]\n",
    "texts = ['value = ' + str(round(max_value,2))+'\\np = '+str(round(maximum,2)),\n",
    "        'value = ' + str(round(left_value,2))+'\\np = '+str(round(left_var,4)),\n",
    "        'value = ' + str(round(right_value,2))+'\\np = '+str(round(right_var,4))]\n",
    "\n",
    "### График\n",
    "plt.plot(points,s.t.pdf(points,loc=mean, scale=std, df = n-1))\n",
    "plt.axvline(max_value)\n",
    "plt.axvline(left_value)\n",
    "plt.axvline(right_value)\n",
    "for i in zip(values,y,texts):\n",
    "    plt.text(*i)\n",
    "plt.show()"
   ]
  },
  {
   "cell_type": "markdown",
   "id": "ddf6b6a9-fe17-430f-ad2e-281113b6cb6d",
   "metadata": {},
   "source": [
    "## 3."
   ]
  },
  {
   "cell_type": "code",
   "execution_count": 5,
   "id": "2ff120cb-f449-4175-b652-c92adf0c8f2e",
   "metadata": {},
   "outputs": [
    {
     "name": "stdout",
     "output_type": "stream",
     "text": [
      "17.328970725390295 => Среднее не попадает в доверительный интервал\n",
      "Значение критерия = 2.5\n",
      "-t = -1.6448536269514722,\n",
      "z = 2.5,\n",
      "t = 1.6448536269514722\n"
     ]
    }
   ],
   "source": [
    "mean = 17\n",
    "alpha = 0.05\n",
    "n = 100\n",
    "test = 17.5\n",
    "var = 4\n",
    "std = var**0.5\n",
    "mse = std / (n**0.5)\n",
    "# Дисперсия известна для ген.совокупности - используем s.norm\n",
    "t = s.norm.ppf(1-alpha)\n",
    "print(mean + mse*t,'=> Среднее не попадает в доверительный интервал')\n",
    "z = (test - mean)/(std / (n**0.5))\n",
    "print(f'Значение критерия = {z}')\n",
    "\n",
    "print(f'''-t = {-t},\\nz = {z},\\nt = {t}''')"
   ]
  },
  {
   "cell_type": "markdown",
   "id": "097d1621-e771-44eb-ab58-b421a1894580",
   "metadata": {},
   "source": [
    "т.к. найденное значение критерия превысило критическое значение и попало в область критических значений, нулевую гипотезу отвергаем (средний размер шариков не равен 17)"
   ]
  },
  {
   "cell_type": "markdown",
   "id": "b4e09bf5-c2cd-4770-90ee-dab7a7568af2",
   "metadata": {},
   "source": [
    "## 4."
   ]
  },
  {
   "cell_type": "code",
   "execution_count": 6,
   "id": "5e160c1f-196d-43bf-9d40-76f5ce876243",
   "metadata": {},
   "outputs": [
    {
     "name": "stdout",
     "output_type": "stream",
     "text": [
      "-t, z, t = -3.2498355440153697, -1.0104496045629119, 3.2498355440153697\n"
     ]
    },
    {
     "data": {
      "text/plain": [
       "(193.92322840036354, 198.5, 203.07677159963646)"
      ]
     },
     "execution_count": 6,
     "metadata": {},
     "output_type": "execute_result"
    }
   ],
   "source": [
    "mean = 200\n",
    "data = [202, 203, 199, 197, 195, 201, 200, 204, 194, 190]\n",
    "n = len(data)\n",
    "test_mean = sum(data)/len(data)\n",
    "std = (sum([(i-test_mean)**2 for i in data])/(n-1))**0.5\n",
    "alpha = 0.01\n",
    "mse = std / (n**0.5)\n",
    "t = s.t.ppf(1-alpha/2,df = n-1)\n",
    "z = (test_mean - mean) / (std/ ((n-1)**0.5))\n",
    "print(f'-t, z, t = {-t}, {z}, {t}')\n",
    "test_mean - mse*t, test_mean, test_mean + mse*t"
   ]
  },
  {
   "cell_type": "markdown",
   "id": "c44a784e-0929-4144-883b-93bb60b5600c",
   "metadata": {},
   "source": [
    "т.к. найденное значение критерия находится между двумя (левым и правым) критическими значениями, и не попало в область критических значений, нулевую гипотезу принимаем (средний размер пачки может быть равен 200)"
   ]
  },
  {
   "cell_type": "code",
   "execution_count": null,
   "id": "d5d7c169-a089-4930-bd50-08ee83a7b23c",
   "metadata": {},
   "outputs": [],
   "source": []
  }
 ],
 "metadata": {
  "kernelspec": {
   "display_name": "Python 3 (ipykernel)",
   "language": "python",
   "name": "python3"
  },
  "language_info": {
   "codemirror_mode": {
    "name": "ipython",
    "version": 3
   },
   "file_extension": ".py",
   "mimetype": "text/x-python",
   "name": "python",
   "nbconvert_exporter": "python",
   "pygments_lexer": "ipython3",
   "version": "3.10.4"
  }
 },
 "nbformat": 4,
 "nbformat_minor": 5
}
