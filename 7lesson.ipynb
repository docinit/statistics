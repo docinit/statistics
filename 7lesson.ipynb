{
 "cells": [
  {
   "cell_type": "markdown",
   "id": "471d785c-c52a-42e6-8bd1-3ad44cf2e35e",
   "metadata": {},
   "source": [
    "## 1\n",
    "\n",
    "* Даны значения величины заработной платы заемщиков банка (zp) и значения их поведенческого кредитного скоринга (ks):\n",
    "<br>zp = [35, 45, 190, 200, 40, 70, 54, 150, 120, 110],\n",
    "<br>ks = [401, 574, 874, 919, 459, 739, 653, 902, 746, 832].\n",
    "<br>Используя математические операции, посчитать коэффициенты линейной регрессии, приняв за X заработную плату (то есть, zp - признак), а за y - значения скорингового балла (то есть, ks - целевая переменная). Произвести расчет как с использованием intercept, так и без."
   ]
  },
  {
   "cell_type": "code",
   "execution_count": 1,
   "id": "d3d690bb-dbc9-4874-b720-f7d6b4992d01",
   "metadata": {},
   "outputs": [],
   "source": [
    "import numpy as np\n",
    "from scipy import stats as s\n",
    "# Дано\n",
    "zp = np.array([35, 45, 190, 200, 40, 70, 54, 150, 120, 110])\n",
    "ks = np.array([401, 574, 874, 919, 459, 739, 653, 902, 746, 832])"
   ]
  },
  {
   "cell_type": "markdown",
   "id": "bd5d56e7-75d5-4e6c-a960-878fbb76f53a",
   "metadata": {},
   "source": [
    "Изначально, предположим, что коэффициент = 1;\n",
    "<br>- дальше данные о з/п умножаются на этот коэффициент;\n",
    "<br>- происходит проверка того, большая ли разница между кр.скорингом и произведением з/п на случайное число;\n",
    "<br>- если в результате увеличения коэффициента разница уменьшается, то коэффициент будет увеличен (например, в 0,001 раз);\n",
    "<br>- если же разница увеличилась, то коэффициент немного уменьшается (в те же 0,001 раз, например)"
   ]
  },
  {
   "cell_type": "markdown",
   "id": "7112358c-6a0e-4cb3-a1a7-436ec99f4b48",
   "metadata": {},
   "source": [
    "# Без интерсепта"
   ]
  },
  {
   "cell_type": "code",
   "execution_count": 2,
   "id": "1a7c0e79-60b8-4698-8bd1-881dec58976d",
   "metadata": {},
   "outputs": [
    {
     "data": {
      "text/plain": [
       "5.8898284702117705"
      ]
     },
     "execution_count": 2,
     "metadata": {},
     "output_type": "execute_result"
    }
   ],
   "source": [
    "coef,coef_ = 1,1\n",
    "diff = np.inf\n",
    "ks_estemated = zp * coef\n",
    "diff_new = sum((ks - ks_estemated)**2)\n",
    "c_diff = 0.00001\n",
    "while diff_new<diff:\n",
    "    diff = sum((ks - ks_estemated)**2)\n",
    "    if diff_new>sum((ks - zp * (coef - coef*c_diff))**2):\n",
    "        coef = coef - coef*c_diff\n",
    "    else:\n",
    "        coef = coef + coef*c_diff\n",
    "        \n",
    "    if coef > 4*coef_ or coef_ > 4*coef:\n",
    "        c_diff = c_diff/10\n",
    "        coef_ = coef\n",
    "    ks_estemated = zp * coef\n",
    "    intercept = np.mean(ks - ks_estemated)\n",
    "    ks_estemated = zp * coef\n",
    "    diff_new = sum((ks - ks_estemated)**2)\n",
    "    # print('\\r',diff_new,end = '', flush = True) # если надо вывести на экран, увеличте параметр c_diff\n",
    "ks_estemated = zp * coef\n",
    "intercept = np.mean(ks - ks_estemated)\n",
    "ks_estemated2 = zp * coef\n",
    "coef"
   ]
  },
  {
   "cell_type": "code",
   "execution_count": 3,
   "id": "bea6d8d2-d650-4647-b6c0-2e39473cf71c",
   "metadata": {},
   "outputs": [
    {
     "data": {
      "text/plain": [
       "(array([0.        , 5.88982042]), 0.0)"
      ]
     },
     "execution_count": 3,
     "metadata": {},
     "output_type": "execute_result"
    }
   ],
   "source": [
    "from sklearn.linear_model import LinearRegression\n",
    "\n",
    "lr = LinearRegression(fit_intercept = False)\n",
    "lr.fit(np.array([np.zeros_like(zp),zp]).T,ks)\n",
    "lr.coef_,lr.intercept_"
   ]
  },
  {
   "cell_type": "markdown",
   "id": "b154a628-87df-4e91-b377-afdc13002faf",
   "metadata": {},
   "source": [
    "Без интерсепта метод подбора дал <s>почти</s> тот же самый результат"
   ]
  },
  {
   "cell_type": "markdown",
   "id": "0f9a7541-1bc2-4b04-a848-4924483ca558",
   "metadata": {},
   "source": [
    "## С интерсептом"
   ]
  },
  {
   "cell_type": "code",
   "execution_count": 4,
   "id": "5a5199e4-3e55-4c4a-a52c-e022477520b8",
   "metadata": {},
   "outputs": [
    {
     "data": {
      "text/plain": [
       "(2.6205426092849575, 444.1769794185053)"
      ]
     },
     "execution_count": 4,
     "metadata": {},
     "output_type": "execute_result"
    }
   ],
   "source": [
    "coef,coef_ = 1,1\n",
    "diff = np.inf\n",
    "ks_estemated = zp * coef\n",
    "diff_new = sum((ks - ks_estemated)**2)\n",
    "c_diff = 0.00001\n",
    "while diff_new<diff:\n",
    "    diff = sum((ks - ks_estemated)**2)\n",
    "    if diff_new>sum((ks - zp * (coef - coef*c_diff))**2):\n",
    "        coef = coef - coef*c_diff\n",
    "    else:\n",
    "        coef = coef + coef*c_diff\n",
    "        \n",
    "    if coef > 2*coef_ or coef_ > 2*coef:\n",
    "        c_diff = c_diff/10\n",
    "        coef_ = coef\n",
    "    ks_estemated = zp * coef\n",
    "    intercept = np.mean(ks - ks_estemated)\n",
    "    ks_estemated = zp * coef + intercept\n",
    "    diff_new = sum((ks - ks_estemated)**2)\n",
    "    # print('\\r',diff_new,end = '', flush = True) # если надо вывести на экран, увеличте параметр c_diff\n",
    "ks_estemated = zp * coef\n",
    "intercept = np.mean(ks - ks_estemated)\n",
    "ks_estemated = zp * coef + intercept\n",
    "coef,intercept"
   ]
  },
  {
   "cell_type": "markdown",
   "id": "71bae89d-a762-4868-bc1b-09243acb4c7a",
   "metadata": {},
   "source": [
    "Расчетный метод"
   ]
  },
  {
   "cell_type": "code",
   "execution_count": 5,
   "id": "48d8c1ae-cac4-4674-847a-5e4920d9d939",
   "metadata": {},
   "outputs": [
    {
     "data": {
      "text/plain": [
       "(2.6205388824027667, 444.17735732435943)"
      ]
     },
     "execution_count": 5,
     "metadata": {},
     "output_type": "execute_result"
    }
   ],
   "source": [
    "zp_squared_diff = sum(np.square(zp)) - (sum(zp)**2)/len(zp)\n",
    "zp_diff = sum(zp*ks) - (sum(zp)*sum(ks))/len(zp)\n",
    "coeff_est = zp_diff / zp_squared_diff\n",
    "intercept_est = np.mean(ks) - np.mean(zp) * coeff_est\n",
    "coeff_est, intercept_est"
   ]
  },
  {
   "cell_type": "markdown",
   "id": "1f418e84-47bc-41e5-b818-c07bbd1aefbc",
   "metadata": {},
   "source": [
    "результат подбора почти соответствует результату расчетов по формулам"
   ]
  },
  {
   "cell_type": "markdown",
   "id": "e80b5216-7852-4bd4-890b-dc8d0913ba22",
   "metadata": {},
   "source": [
    "Матрицы:"
   ]
  },
  {
   "cell_type": "code",
   "execution_count": 6,
   "id": "33b7858e-991b-4a96-9be0-bd7583526a1b",
   "metadata": {},
   "outputs": [
    {
     "data": {
      "text/plain": [
       "matrix([[444.17735732,   2.62053888]])"
      ]
     },
     "execution_count": 6,
     "metadata": {},
     "output_type": "execute_result"
    }
   ],
   "source": [
    "zpz = np.matrix(np.array([np.ones_like(zp),zp]))\n",
    "np.dot(np.dot(np.linalg.inv(zpz * zpz.T), zpz), ks)"
   ]
  },
  {
   "cell_type": "markdown",
   "id": "e0a281e9-1150-44dd-affa-749307998925",
   "metadata": {},
   "source": [
    "результаты расчета по формулам и с использованием матриц совпадают"
   ]
  },
  {
   "cell_type": "markdown",
   "id": "d4955eb2-00ba-4a9d-89c2-051d29b88f76",
   "metadata": {},
   "source": [
    "Сравним с результатом LinearRegression из библиотеки sklearn"
   ]
  },
  {
   "cell_type": "code",
   "execution_count": 7,
   "id": "44e0c1d1-c8d5-4838-a760-cdf7d8d11a61",
   "metadata": {},
   "outputs": [
    {
     "data": {
      "text/plain": [
       "(array([0.        , 2.62053888]), 444.1773573243595)"
      ]
     },
     "execution_count": 7,
     "metadata": {},
     "output_type": "execute_result"
    }
   ],
   "source": [
    "from sklearn.linear_model import LinearRegression\n",
    "\n",
    "lr = LinearRegression()\n",
    "lr.fit(np.array([np.ones_like(zp),zp]).T,ks)\n",
    "ks_lr = zp * lr.coef_[1] +lr.intercept_ \n",
    "lr.coef_,lr.intercept_"
   ]
  },
  {
   "cell_type": "code",
   "execution_count": 8,
   "id": "396393d3-a973-423c-a777-6daa7d0a5afc",
   "metadata": {},
   "outputs": [
    {
     "name": "stdout",
     "output_type": "stream",
     "text": [
      "2.6205426092849575 444.1769794185053 - Это коэффициент и интерсепт, полученные методом подбора\n"
     ]
    }
   ],
   "source": [
    "print(coef,intercept,'- Это коэффициент и интерсепт, полученные методом подбора')"
   ]
  },
  {
   "cell_type": "code",
   "execution_count": 9,
   "id": "abdb64f7-a6bc-474f-b443-dfb51ecddff4",
   "metadata": {},
   "outputs": [
    {
     "name": "stdout",
     "output_type": "stream",
     "text": [
      "Стандартное отклонение: 254.37008867350457 (LinearRegression) и 254.37008867445877 (методом подбора)\n"
     ]
    }
   ],
   "source": [
    "std_results = sum((ks - ks_lr)**2)**0.5,'(LinearRegression) и',sum((ks - ks_estemated)**2)**0.5, '(методом подбора)'\n",
    "print('Стандартное отклонение:',*std_results)"
   ]
  },
  {
   "cell_type": "markdown",
   "id": "30c52ec9-06e9-437d-8361-51091b442bea",
   "metadata": {},
   "source": [
    "Подбор дал <s>почти</s> тот же результат!"
   ]
  },
  {
   "cell_type": "markdown",
   "id": "7462677f-ba9f-45e2-86cd-cb7e0232f286",
   "metadata": {},
   "source": [
    "## Графики"
   ]
  },
  {
   "cell_type": "code",
   "execution_count": 11,
   "id": "d8ae445f-cc3a-4597-a6ee-800ffac34330",
   "metadata": {},
   "outputs": [
    {
     "data": {
      "image/png": "[encoded data removed]",
      "text/plain": [
       "<Figure size 640x480 with 1 Axes>"
      ]
     },
     "metadata": {},
     "output_type": "display_data"
    }
   ],
   "source": [
    "from matplotlib import pyplot as plt\n",
    "plt.plot(np.sort(np.array([zp,ks]))[0],np.sort(np.array([zp,ks]))[1],label='Истинные значения')\n",
    "plt.plot(np.sort(np.array([zp,ks_estemated]))[0],np.sort(np.array([zp,ks_estemated]))[1],c='r',label='Подбор с интерсептом')\n",
    "plt.plot(np.sort(np.array([zp,ks_estemated2]))[0],np.sort(np.array([zp,ks_estemated2]))[1],c='g',label='Подбор без интерсепта')\n",
    "plt.legend()\n",
    "plt.show()"
   ]
  },
  {
   "cell_type": "markdown",
   "id": "b1a2ab8a-bbc1-4e42-ae4b-f8522e4e7219",
   "metadata": {},
   "source": [
    "## 2. В каких случаях для вычисления доверительных интервалов и проверки статистических гипотез используется таблица значений функции Лапласа, а в каких - таблица критических точек распределения Стьюдента?"
   ]
  },
  {
   "cell_type": "markdown",
   "id": "eb6de714-2a47-44ff-931e-38c47b571dff",
   "metadata": {},
   "source": [
    "Таблицы используются для определения вероятности попасть в определенный интервал (т.е. сумма вероятностей, или интеграл, уже вычислена). А критические точки - для определения вероятности оказаться ниже/выше этой точк; в этом случае надо еще определить сумму вероятностей, если требуется определить вероятность попадания в интервал."
   ]
  },
  {
   "cell_type": "code",
   "execution_count": null,
   "id": "3ce9918f-3265-4ba3-9652-a5c8dd95eccd",
   "metadata": {},
   "outputs": [],
   "source": []
  }
 ],
 "metadata": {
  "kernelspec": {
   "display_name": "Python 3 (ipykernel)",
   "language": "python",
   "name": "python3"
  },
  "language_info": {
   "codemirror_mode": {
    "name": "ipython",
    "version": 3
   },
   "file_extension": ".py",
   "mimetype": "text/x-python",
   "name": "python",
   "nbconvert_exporter": "python",
   "pygments_lexer": "ipython3",
   "version": "3.10.4"
  }
 },
 "nbformat": 4,
 "nbformat_minor": 5
}
