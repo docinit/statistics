{
 "cells": [
  {
   "cell_type": "markdown",
   "id": "8cec4d55-d8a4-4f6a-87dc-8880a4101a21",
   "metadata": {},
   "source": [
    "## Урок 8.\n",
    "<br>\n",
    "Дисперсионный анализ. Логистическая регрессия\n",
    "<br>\n",
    "Провести дисперсионный анализ для определения того, есть ли различия среднего роста среди взрослых футболистов, хоккеистов и штангистов. Даны значения роста в трех группах случайно выбранных спортсменов: Футболисты: 173, 175, 180, 178, 177, 185, 183, 182. Хоккеисты: 177, 179, 180, 188, 177, 172, 171, 184, 180. Штангисты: 172, 173, 169, 177, 166, 180, 178, 177, 172, 166, 170. alpha = 0.05."
   ]
  },
  {
   "cell_type": "code",
   "execution_count": 1,
   "id": "a680d766-6c53-4d70-9f0a-f2e5e78516aa",
   "metadata": {},
   "outputs": [
    {
     "data": {
      "text/plain": [
       "(830.9642857142854, 253.9074675324678, 577.0568181818181)"
      ]
     },
     "execution_count": 1,
     "metadata": {},
     "output_type": "execute_result"
    }
   ],
   "source": [
    "from scipy import stats as s\n",
    "import numpy as np\n",
    "\n",
    "# условия\n",
    "alpha = 0.05\n",
    "soccer_player = np.array([173, 175, 180, 178, 177, 185, 183, 182])\n",
    "hockey_player = np.array([177, 179, 180, 188, 177, 172, 171, 184, 180])\n",
    "weghtlifter = np.array([172, 173, 169, 177, 166, 180, 178, 177, 172, 166, 170])\n",
    "\n",
    "# массивы\n",
    "all_groups = [soccer_player,hockey_player,weghtlifter]\n",
    "all_values = np.hstack(all_groups)\n",
    "\n",
    "# базовые величины\n",
    "mean_soccer_player = np.mean(soccer_player) # среднее группы\n",
    "mean_hockey_player = np.mean(hockey_player) # среднее группы\n",
    "mean_weghtlifter = np.mean(weghtlifter) # среднее группы\n",
    "means = np.array([np.mean(i) for i in all_groups]) # среднее всех групп\n",
    "mean = np.mean(all_values) # среднее всех значений\n",
    "\n",
    "\n",
    "# сумма квадратов отклонений наблюдений от общего среднего:\n",
    "S_t = sum((np.hstack(all_groups) - mean)**2)\n",
    "# сумма квадратов отклонений средних групповых значений от общего среднего значения\n",
    "S_f = sum([k*(i - mean)**2 for i,k in zip(means,[len(i) for i in all_groups])])\n",
    "# остаточная сумма квадратов отклонений:\n",
    "S_res = sum([sum((i - means[k])**2) for k,i in enumerate(all_groups)])\n",
    "\n",
    "S_t,S_f,S_res"
   ]
  },
  {
   "cell_type": "code",
   "execution_count": 2,
   "id": "d6107b09-ee45-4d9c-abc7-315e535e0bb9",
   "metadata": {},
   "outputs": [
    {
     "data": {
      "text/plain": [
       "(830.9642857142859, True)"
      ]
     },
     "execution_count": 2,
     "metadata": {},
     "output_type": "execute_result"
    }
   ],
   "source": [
    "S_total = S_f+S_res\n",
    "S_total,round(S_t,8) == round(S_total,8)"
   ]
  },
  {
   "cell_type": "code",
   "execution_count": 3,
   "id": "c38ad331-2a8d-47d0-a94c-a3dc438af213",
   "metadata": {},
   "outputs": [
    {
     "name": "stdout",
     "output_type": "stream",
     "text": [
      "Значение статистики =  5.500053450812599\n"
     ]
    }
   ],
   "source": [
    "F = (S_f / 2) / (S_res / (len(all_values)-3))\n",
    "print('Значение статистики = ',F)"
   ]
  },
  {
   "cell_type": "markdown",
   "id": "bdfc44d0-5c70-41b4-b422-a381afd7a924",
   "metadata": {},
   "source": [
    "Поиск критического значения и проверка вычислений с помощью модуля scipy"
   ]
  },
  {
   "cell_type": "code",
   "execution_count": 4,
   "id": "263b4751-1958-4121-b11a-0d24a9e051e7",
   "metadata": {},
   "outputs": [
    {
     "name": "stdout",
     "output_type": "stream",
     "text": [
      "\n",
      "Значение статистики = 5.500053450812596,\n",
      "p-значение = 0.010482206918698694,\n",
      "Критическое F-значение = 3.3851899614491687\n",
      "\n"
     ]
    }
   ],
   "source": [
    "F_stats,p_value = s.f_oneway(all_groups[0],all_groups[1],all_groups[2])\n",
    "F_critical_stats = s.f.ppf(1-0.05, len(all_groups)-1, len(all_values)-len(all_groups))\n",
    "\n",
    "print(f'''\n",
    "Значение статистики = {F_stats},\n",
    "p-значение = {p_value},\n",
    "Критическое F-значение = {F_critical_stats}\n",
    "'''\n",
    "     )"
   ]
  },
  {
   "cell_type": "markdown",
   "id": "f8fb6299-930f-4003-8c8c-7389071f8982",
   "metadata": {},
   "source": [
    "F-значение превышает F-критическое, поэтому гипотеза о равенстве средних значений групп отвергается."
   ]
  },
  {
   "cell_type": "code",
   "execution_count": null,
   "id": "dfa07266-99f0-4e63-bc51-062c8b6c5a72",
   "metadata": {},
   "outputs": [],
   "source": []
  }
 ],
 "metadata": {
  "kernelspec": {
   "display_name": "Python 3 (ipykernel)",
   "language": "python",
   "name": "python3"
  },
  "language_info": {
   "codemirror_mode": {
    "name": "ipython",
    "version": 3
   },
   "file_extension": ".py",
   "mimetype": "text/x-python",
   "name": "python",
   "nbconvert_exporter": "python",
   "pygments_lexer": "ipython3",
   "version": "3.10.4"
  }
 },
 "nbformat": 4,
 "nbformat_minor": 5
}
